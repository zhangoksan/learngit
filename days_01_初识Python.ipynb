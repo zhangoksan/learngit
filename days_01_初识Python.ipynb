{
 "cells": [
  {
   "cell_type": "markdown",
   "metadata": {},
   "source": [
    "## 练习"
   ]
  },
  {
   "cell_type": "markdown",
   "metadata": {},
   "source": [
    "### 1.在Python交互式环境中输入下面的代码并查看结果，请尝试将看到的内容翻译成中文。"
   ]
  },
  {
   "cell_type": "code",
   "execution_count": 1,
   "metadata": {},
   "outputs": [
    {
     "name": "stdout",
     "output_type": "stream",
     "text": [
      "The Zen of Python, by Tim Peters\n",
      "\n",
      "Beautiful is better than ugly.\n",
      "Explicit is better than implicit.\n",
      "Simple is better than complex.\n",
      "Complex is better than complicated.\n",
      "Flat is better than nested.\n",
      "Sparse is better than dense.\n",
      "Readability counts.\n",
      "Special cases aren't special enough to break the rules.\n",
      "Although practicality beats purity.\n",
      "Errors should never pass silently.\n",
      "Unless explicitly silenced.\n",
      "In the face of ambiguity, refuse the temptation to guess.\n",
      "There should be one-- and preferably only one --obvious way to do it.\n",
      "Although that way may not be obvious at first unless you're Dutch.\n",
      "Now is better than never.\n",
      "Although never is often better than *right* now.\n",
      "If the implementation is hard to explain, it's a bad idea.\n",
      "If the implementation is easy to explain, it may be a good idea.\n",
      "Namespaces are one honking great idea -- let's do more of those!\n"
     ]
    }
   ],
   "source": [
    "import this"
   ]
  },
  {
   "cell_type": "markdown",
   "metadata": {},
   "source": [
    "python 禅宗，来自 Tim Peters\n",
    "\n",
    "美丽优于丑陋。\n",
    "清晰的优于不明的。\n",
    "简单的优于复杂的。\n",
    "复杂的优于难以理解的。\n",
    "平坦的优于嵌套的。\n",
    "稀少的优于密集的。\n",
    "可读性计数。\n",
    "特殊情况不足以打破规则。\n",
    "尽管实用胜过纯粹。\n",
    "错误不应该悄无声息的过去。\n",
    "除非明确沉默。\n",
    "面对模棱两可，拒绝猜测的诱惑。\n",
    "应该有一个——最好只有一个——显而易见的方法。\n",
    "不过，除非你是荷兰人，否则这种方式可能一开始并不明显。\n",
    "现在总比没有好。\n",
    "尽管从来没有比现在更好。\n",
    "如果实现很难解释，那是个坏主意。\n",
    "如果实现很容易解释，这可能是个好主意。\n",
    "命名空间是一个非常棒的主意，让我们做更多的事情吧！"
   ]
  },
  {
   "cell_type": "markdown",
   "metadata": {},
   "source": [
    "**以下来自百度翻译**\n",
    "\n",
    "美胜于丑。\n",
    "显式比隐式好。\n",
    "简单胜于复杂。\n",
    "复杂胜于复杂。\n",
    "平的比嵌套的好。\n",
    "稀胜于密。\n",
    "可读性很重要。\n",
    "特殊情况不足以打破规则。\n",
    "尽管实用胜过纯粹。\n",
    "错误不应该悄无声息地过去。\n",
    "除非明确沉默。\n",
    "面对模棱两可，拒绝猜测的诱惑。\n",
    "应该有一个——最好只有一个——显而易见的方法。\n",
    "不过，除非你是荷兰人，否则这种方式一开始可能并不明显。\n",
    "现在总比没有好。\n",
    "尽管从来没有比现在更好。\n",
    "如果实现很难解释，那是个坏主意。\n",
    "如果实现很容易解释，这可能是一个好主意。\n",
    "名称空间是一个非常棒的主意——让我们做更多的事情吧！"
   ]
  },
  {
   "cell_type": "markdown",
   "metadata": {},
   "source": [
    "> 说明：输入上面的代码，在Python的交互式环境中可以看到Tim Peter撰写的“Python之禅”，里面讲述的道理不仅仅适用于Python，也适用于其他编程语言。"
   ]
  },
  {
   "cell_type": "markdown",
   "metadata": {},
   "source": [
    "### 2. 学习使用turtle在屏幕上绘制图形。"
   ]
  },
  {
   "cell_type": "markdown",
   "metadata": {},
   "source": [
    "> 说明：turtle是Python内置的一个非常有趣的模块，特别适合对计算机程序设计进行初体验的小伙伴，它最早是Logo语言的一部分，Logo语言是Wally Feurzig和Seymour Papert在1966发明的编程语言。"
   ]
  },
  {
   "cell_type": "code",
   "execution_count": 42,
   "metadata": {},
   "outputs": [],
   "source": [
    "import turtle\n",
    "import matplotlib"
   ]
  },
  {
   "cell_type": "code",
   "execution_count": 6,
   "metadata": {},
   "outputs": [],
   "source": [
    "turtle.pensize(4)\n",
    "turtle.pencolor('red')\n",
    "\n",
    "turtle.forward(100)\n",
    "turtle.right(90)\n",
    "turtle.forward(100)\n",
    "turtle.right(90)\n",
    "turtle.forward(100)\n",
    "turtle.right(90)\n",
    "turtle.forward(100)\n",
    "\n",
    "turtle.mainloop()"
   ]
  },
  {
   "cell_type": "markdown",
   "metadata": {},
   "source": [
    "> 提示：本章提供的代码中还有画国旗和画小猪佩奇的代码，有兴趣的读者请自行研究。"
   ]
  },
  {
   "cell_type": "markdown",
   "metadata": {},
   "source": [
    "### 绘制国旗"
   ]
  },
  {
   "cell_type": "code",
   "execution_count": 43,
   "metadata": {},
   "outputs": [],
   "source": [
    "\"\"\"\n",
    "用Python的turtle模块绘制国旗\n",
    "\"\"\"\n",
    "# import turtle 已经导入过\n",
    "matplotlib.use('Agg')"
   ]
  },
  {
   "cell_type": "code",
   "execution_count": 45,
   "metadata": {},
   "outputs": [],
   "source": [
    "def draw_rectangle(x, y, width, height):\n",
    "    \"\"\"绘制矩形\"\"\"\n",
    "    turtle.goto(x, y)\n",
    "    turtle.pencolor('red')\n",
    "    turtle.fillcolor('red')\n",
    "    turtle.begin_fill()\n",
    "    for i in range(2):\n",
    "        turtle.fd(width)\n",
    "        turtle.left(90)\n",
    "        turtle.fd(height)\n",
    "        turtle.left(90)    \n",
    "    turtle.end_fill()\n",
    "    \n",
    "    \n",
    "def draw_star(x, y, radius):\n",
    "    \"\"\"绘制五角星\"\"\"\n",
    "    turtle.setpos(x, y)\n",
    "    pos1 = turtle.pos()\n",
    "    turtle.circle(-radius, 72)\n",
    "    pos2 = turtle.pos()\n",
    "    turtle.circle(-radius, 72)\n",
    "    pos3 = turtle.pos()\n",
    "    turtle.circle(-radius, 72)\n",
    "    pos4 = turtle.pos()\n",
    "    turtle.circle(-radius, 72)\n",
    "    pos5 = turtle.pos()\n",
    "    turtle.circle(-radius, 72)\n",
    "    turtle.color('yellow', 'yellow')\n",
    "    turtle.begin_fill()\n",
    "    turtle.goto(pos3)\n",
    "    turtle.goto(pos1)\n",
    "    turtle.goto(pos4)\n",
    "    turtle.goto(pos2)\n",
    "    turtle.goto(pos5)\n",
    "    turtle.goto(pos3)\n",
    "    turtle.end_fill()\n",
    "    \n",
    "    \n",
    "def main():\n",
    "    \"\"\"主程序\"\"\"\n",
    "    turtle.speed(12)\n",
    "    turtle.penup()\n",
    "    x, y = -270, -180\n",
    "    # 画国旗主体\n",
    "    width, height = 540, 360\n",
    "    draw_rectangle(x, y, width, height)\n",
    "    # 画大星星\n",
    "    pice = 22\n",
    "    center_x, center_y = x + 5 * pice, y + height - pice * 5\n",
    "    turtle.goto(center_x, center_y)\n",
    "    turtle.left(90)\n",
    "    turtle.fd(pice * 3)\n",
    "    turtle.rt(90)\n",
    "    draw_star(turtle.xcor(), turtle.ycor(), pice * 3)\n",
    "    x_poses, y_poses = [10, 12, 12, 10], [2, 4, 7, 9]\n",
    "    # 画小星星\n",
    "    for x_pos, y_pos in zip(x_poses, y_poses):\n",
    "        turtle.goto(x + x_pos * pice, y + height - y_pos * pice)\n",
    "        turtle.lt(turtle.towards(center_x, center_y) - turtle.heading())\n",
    "        turtle.fd(pice)\n",
    "        turtle.right(90)\n",
    "        draw_star(turtle.xcor(),turtle.ycor(), pice)\n",
    "    # 隐藏海龟\n",
    "    turtle.ht()\n",
    "    # 显示绘图窗口\n",
    "    turtle.mainloop()\n",
    "\n",
    "    \n",
    "if __name__ == '__main__':\n",
    "    main()\n"
   ]
  },
  {
   "cell_type": "markdown",
   "metadata": {},
   "source": [
    "**每次运行画图程序要运行两次，第一次像是在报错，第二次运行正常，在pycharm中运行正常，不报错**"
   ]
  },
  {
   "cell_type": "code",
   "execution_count": null,
   "metadata": {},
   "outputs": [],
   "source": []
  }
 ],
 "metadata": {
  "kernelspec": {
   "display_name": "Python 3",
   "language": "python",
   "name": "python3"
  },
  "language_info": {
   "codemirror_mode": {
    "name": "ipython",
    "version": 3
   },
   "file_extension": ".py",
   "mimetype": "text/x-python",
   "name": "python",
   "nbconvert_exporter": "python",
   "pygments_lexer": "ipython3",
   "version": "3.7.1"
  }
 },
 "nbformat": 4,
 "nbformat_minor": 2
}
