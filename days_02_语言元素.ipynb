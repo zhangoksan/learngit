{
 "cells": [
  {
   "cell_type": "markdown",
   "metadata": {},
   "source": [
    "- `type()`:检查变量的类型\n",
    "- `int()`: 讲一个数值或字符串转换成整数，可以指定进制。\n",
    "- `float()`: 将一个字符串转换成浮点数。\n",
    "- `str()`: 将指定的对象转换成字符串形式，可以指定编码。\n",
    "- `chr()`: 将整数转换成该编码对应的字符串（一个字符）。\n",
    "- `ord()`: 将字符串（一个字符）转换成对应的编码（整数）。\n",
    "- `input()`: 获取键盘输入（字符串）。\n",
    "- %d: 整数；%f: 浮点数；"
   ]
  },
  {
   "cell_type": "markdown",
   "metadata": {},
   "source": [
    "### 运算符"
   ]
  },
  {
   "cell_type": "markdown",
   "metadata": {},
   "source": [
    "|              运算符         |           描述          |\n",
    "| :---- | :----: |\n",
    "| `[]` `[:]` | 下标，切片 |\n",
    "| `**` | 指数 |\n",
    "| `~` `+` `-` | 按位取反，正负号 |\n",
    "| `*` `/` `%` `//` | 乘，除，模，整除 |\n",
    "| `+` `-` | 加，减 |\n",
    "| `>>` `<<` | 右移，左移 |\n",
    "| `&` | 按位与 |\n",
    "| `^` `|` | 按位异或，按位或 |\n",
    "| `<=` `<` `>` `>=` | 小于等于，小于，大于，大于等于 |\n",
    "| `==` `!=` | 等于，不等于 |\n",
    "| `is` `is not` | 身份运算符 |\n",
    "| `in` `not in` | 成员运算符 |\n",
    "| `not` `or` `and` | 逻辑运算符 |\n",
    "| `=` `+=` `-=` `/=` `&=` `//=` `**=` `&=` | `^=` `>>=` `<<=`|\n"
   ]
  },
  {
   "cell_type": "code",
   "execution_count": 3,
   "metadata": {},
   "outputs": [
    {
     "data": {
      "text/plain": [
       "int"
      ]
     },
     "execution_count": 3,
     "metadata": {},
     "output_type": "execute_result"
    }
   ],
   "source": [
    "\"\"\"使用type()检查变量的类型\"\"\"\n",
    "\n",
    "a = 100\n",
    "b = 12.345\n",
    "c = 1 + 5j\n",
    "d = 'hello, world'\n",
    "e = True\n",
    "type(a)"
   ]
  },
  {
   "cell_type": "code",
   "execution_count": 4,
   "metadata": {},
   "outputs": [
    {
     "data": {
      "text/plain": [
       "float"
      ]
     },
     "execution_count": 4,
     "metadata": {},
     "output_type": "execute_result"
    }
   ],
   "source": [
    "type(b)"
   ]
  },
  {
   "cell_type": "code",
   "execution_count": 5,
   "metadata": {},
   "outputs": [
    {
     "data": {
      "text/plain": [
       "complex"
      ]
     },
     "execution_count": 5,
     "metadata": {},
     "output_type": "execute_result"
    }
   ],
   "source": [
    "type(c)"
   ]
  },
  {
   "cell_type": "code",
   "execution_count": 6,
   "metadata": {},
   "outputs": [
    {
     "data": {
      "text/plain": [
       "str"
      ]
     },
     "execution_count": 6,
     "metadata": {},
     "output_type": "execute_result"
    }
   ],
   "source": [
    "type(d)"
   ]
  },
  {
   "cell_type": "code",
   "execution_count": 7,
   "metadata": {},
   "outputs": [
    {
     "data": {
      "text/plain": [
       "bool"
      ]
     },
     "execution_count": 7,
     "metadata": {},
     "output_type": "execute_result"
    }
   ],
   "source": [
    "type(e)"
   ]
  },
  {
   "cell_type": "code",
   "execution_count": 20,
   "metadata": {},
   "outputs": [
    {
     "data": {
      "text/plain": [
       "'᧟'"
      ]
     },
     "execution_count": 20,
     "metadata": {},
     "output_type": "execute_result"
    }
   ],
   "source": [
    "chr(6623)"
   ]
  },
  {
   "cell_type": "code",
   "execution_count": 13,
   "metadata": {},
   "outputs": [
    {
     "data": {
      "text/plain": [
       "51"
      ]
     },
     "execution_count": 13,
     "metadata": {},
     "output_type": "execute_result"
    }
   ],
   "source": [
    "int('0x33', base=0)"
   ]
  },
  {
   "cell_type": "code",
   "execution_count": 21,
   "metadata": {},
   "outputs": [
    {
     "name": "stdout",
     "output_type": "stream",
     "text": [
      "a = 32\n"
     ]
    }
   ],
   "source": [
    "a = int(input('a = '))"
   ]
  },
  {
   "cell_type": "code",
   "execution_count": 22,
   "metadata": {},
   "outputs": [
    {
     "name": "stdout",
     "output_type": "stream",
     "text": [
      "b = 12\n"
     ]
    }
   ],
   "source": [
    "b = int(input('b = '))"
   ]
  },
  {
   "cell_type": "code",
   "execution_count": 24,
   "metadata": {},
   "outputs": [
    {
     "name": "stdout",
     "output_type": "stream",
     "text": [
      "32 + 12 = 44\n"
     ]
    }
   ],
   "source": [
    "print('%d + %d = %d' % (a, b, a+b))"
   ]
  },
  {
   "cell_type": "code",
   "execution_count": 25,
   "metadata": {},
   "outputs": [
    {
     "name": "stdout",
     "output_type": "stream",
     "text": [
      "32 // 12 = 2\n"
     ]
    }
   ],
   "source": [
    "print('%d // %d = %d' % (a, b, a//b))"
   ]
  },
  {
   "cell_type": "code",
   "execution_count": 28,
   "metadata": {},
   "outputs": [
    {
     "data": {
      "text/plain": [
       "True"
      ]
     },
     "execution_count": 28,
     "metadata": {},
     "output_type": "execute_result"
    }
   ],
   "source": [
    "\"\"\"比较、逻辑和算身份运算符的使用\"\"\"\n",
    "flag0 = 1 == 1\n",
    "flag0"
   ]
  },
  {
   "cell_type": "code",
   "execution_count": 29,
   "metadata": {},
   "outputs": [
    {
     "data": {
      "text/plain": [
       "True"
      ]
     },
     "execution_count": 29,
     "metadata": {},
     "output_type": "execute_result"
    }
   ],
   "source": [
    "flag1 = 3 > 2\n",
    "flag1"
   ]
  },
  {
   "cell_type": "code",
   "execution_count": 30,
   "metadata": {},
   "outputs": [
    {
     "data": {
      "text/plain": [
       "False"
      ]
     },
     "execution_count": 30,
     "metadata": {},
     "output_type": "execute_result"
    }
   ],
   "source": [
    "flag2 = 2 < 1\n",
    "flag2"
   ]
  },
  {
   "cell_type": "code",
   "execution_count": 31,
   "metadata": {},
   "outputs": [
    {
     "data": {
      "text/plain": [
       "False"
      ]
     },
     "execution_count": 31,
     "metadata": {},
     "output_type": "execute_result"
    }
   ],
   "source": [
    "flag3 = flag1 and flag2\n",
    "flag3"
   ]
  },
  {
   "cell_type": "code",
   "execution_count": 32,
   "metadata": {},
   "outputs": [
    {
     "data": {
      "text/plain": [
       "True"
      ]
     },
     "execution_count": 32,
     "metadata": {},
     "output_type": "execute_result"
    }
   ],
   "source": [
    "flag4 = flag1 or flag2\n",
    "flag4"
   ]
  },
  {
   "cell_type": "code",
   "execution_count": 33,
   "metadata": {},
   "outputs": [
    {
     "data": {
      "text/plain": [
       "False"
      ]
     },
     "execution_count": 33,
     "metadata": {},
     "output_type": "execute_result"
    }
   ],
   "source": [
    "flag5 = not (1 != 2)\n",
    "flag5"
   ]
  },
  {
   "cell_type": "code",
   "execution_count": 34,
   "metadata": {},
   "outputs": [
    {
     "data": {
      "text/plain": [
       "True"
      ]
     },
     "execution_count": 34,
     "metadata": {},
     "output_type": "execute_result"
    }
   ],
   "source": [
    "flag1 is True"
   ]
  },
  {
   "cell_type": "code",
   "execution_count": 35,
   "metadata": {},
   "outputs": [
    {
     "data": {
      "text/plain": [
       "False"
      ]
     },
     "execution_count": 35,
     "metadata": {},
     "output_type": "execute_result"
    }
   ],
   "source": [
    "flag2 is not False"
   ]
  },
  {
   "cell_type": "markdown",
   "metadata": {},
   "source": [
    "### 练习"
   ]
  },
  {
   "cell_type": "markdown",
   "metadata": {},
   "source": [
    "#### 练习1：华氏温度转换为摄氏温度"
   ]
  },
  {
   "cell_type": "markdown",
   "metadata": {},
   "source": [
    "> 提示：华氏温度到摄氏温度的转换公式为：$ C=(F-32)\\div 1.8 $"
   ]
  },
  {
   "cell_type": "code",
   "execution_count": 36,
   "metadata": {},
   "outputs": [
    {
     "name": "stdout",
     "output_type": "stream",
     "text": [
      "请输入华氏温度50\n",
      "50.0华氏度 = 10.0摄氏度\n"
     ]
    }
   ],
   "source": [
    "\"\"\"\n",
    "将华氏温度转换为摄氏温度\n",
    "\n",
    "Version: 0.1\n",
    "Author: 张潇潇\n",
    "\"\"\"\n",
    "\n",
    "f = float(input(\"请输入华氏温度\"))\n",
    "c = (f - 32) / 1.8\n",
    "print('%.1f华氏度 = %.1f摄氏度' % (f, c))\n"
   ]
  },
  {
   "cell_type": "markdown",
   "metadata": {},
   "source": [
    "#### 练习2：输入圆的半径计算周长和面积。"
   ]
  },
  {
   "cell_type": "code",
   "execution_count": 37,
   "metadata": {},
   "outputs": [
    {
     "name": "stdout",
     "output_type": "stream",
     "text": [
      "请输入圆的半径： 4.5\n",
      "周长: 28.27\n",
      "面积：63.62\n"
     ]
    }
   ],
   "source": [
    "\"\"\"\n",
    "输入半径计算圆的周长和面积\n",
    "\n",
    "Version: 0.1\n",
    "Author: 张潇潇\n",
    "\"\"\"\n",
    "import math\n",
    "\n",
    "radius = float(input(\"请输入圆的半径： \"))\n",
    "perimeter = 2 * math.pi * radius\n",
    "area = math.pi * radius * radius\n",
    "print(\"周长: %.2f\" % perimeter)\n",
    "print('面积：%.2f' % area)"
   ]
  },
  {
   "cell_type": "markdown",
   "metadata": {},
   "source": [
    "#### 练习3：输入年份判断是不是闰年。"
   ]
  },
  {
   "cell_type": "code",
   "execution_count": 40,
   "metadata": {},
   "outputs": [
    {
     "name": "stdout",
     "output_type": "stream",
     "text": [
      "请输入年份：2018\n",
      "2018年不是闰年\n"
     ]
    }
   ],
   "source": [
    "\"\"\"\n",
    "输入年份判断是不是闰年\n",
    "\n",
    "Version: 0.1\n",
    "Author: 张潇潇\n",
    "\"\"\"\n",
    "\n",
    "year = int(input('请输入年份：'))\n",
    "# 如果代码太长写成一行不便于阅读，可以使用\\对代码进行拆行\n",
    "is_leap = (year % 4 == 0 and year % 100 != 0) or \\\n",
    "            (year % 400 == 0)\n",
    "if is_leap:\n",
    "    print('%d年是闰年' % year)\n",
    "else:\n",
    "    print('%d年不是闰年' % year)"
   ]
  }
 ],
 "metadata": {
  "kernelspec": {
   "display_name": "Python 3",
   "language": "python",
   "name": "python3"
  },
  "language_info": {
   "codemirror_mode": {
    "name": "ipython",
    "version": 3
   },
   "file_extension": ".py",
   "mimetype": "text/x-python",
   "name": "python",
   "nbconvert_exporter": "python",
   "pygments_lexer": "ipython3",
   "version": "3.7.1"
  }
 },
 "nbformat": 4,
 "nbformat_minor": 2
}
