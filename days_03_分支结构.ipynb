{
 "cells": [
  {
   "cell_type": "markdown",
   "metadata": {},
   "source": [
    "#### if语句的使用"
   ]
  },
  {
   "cell_type": "code",
   "execution_count": 1,
   "metadata": {},
   "outputs": [
    {
     "name": "stdout",
     "output_type": "stream",
     "text": [
      "请输入用户名：admin\n",
      "请输入口令：123456\n",
      "身份验证成功！\n"
     ]
    }
   ],
   "source": [
    "\"\"\"\n",
    "用户身份验证\n",
    "\n",
    "Version: 0.1\n",
    "Author: 张潇潇\n",
    "\"\"\"\n",
    "\n",
    "username = input('请输入用户名：')\n",
    "password = input('请输入口令：')\n",
    "# 用户名是admin且密码是123456则身份验证成功否则身份验证失败\n",
    "if username == 'admin' and password == '123456':\n",
    "    print('身份验证成功！')\n",
    "else:\n",
    "    print('身份验证失败！')\n"
   ]
  },
  {
   "cell_type": "markdown",
   "metadata": {},
   "source": [
    "#### 分段函数的求值"
   ]
  },
  {
   "cell_type": "code",
   "execution_count": 2,
   "metadata": {},
   "outputs": [
    {
     "name": "stdout",
     "output_type": "stream",
     "text": [
      "x = 3.26\n",
      "f(3.26) = 4.78\n"
     ]
    }
   ],
   "source": [
    "\"\"\"\n",
    "分段函数求值\n",
    "\n",
    "       3x - 5 (x > 1)\n",
    "f(x) = x + 2  (-1 <= x < 1)\n",
    "       5x + 3 (x < -1)\n",
    "       \n",
    "Version: 0.1\n",
    "Author: 张潇潇\n",
    "\"\"\"\n",
    "\n",
    "x = float(input('x = '))\n",
    "if x > 1:\n",
    "    y = 3 * x - 5\n",
    "elif x >= -1:\n",
    "    y = x + 2\n",
    "else:\n",
    "    y = 5 * x + 3\n",
    "print('f(%.2f) = %.2f' % (x,y))\n"
   ]
  },
  {
   "cell_type": "markdown",
   "metadata": {},
   "source": [
    "#### 练习1：英制单位英寸与公制单位厘米互换"
   ]
  },
  {
   "cell_type": "code",
   "execution_count": 5,
   "metadata": {},
   "outputs": [
    {
     "name": "stdout",
     "output_type": "stream",
     "text": [
      "请输入长度：50\n",
      "请输入单位：in\n",
      "50.00英寸 = 127.00厘米\n"
     ]
    }
   ],
   "source": [
    "\"\"\"\n",
    "英制单位英寸与公制单位厘米互换\n",
    "\n",
    "Version: 0.1\n",
    "Author: 张潇潇\n",
    "\"\"\"\n",
    "\n",
    "value = float(input('请输入长度：'))\n",
    "unit = input('请输入单位：')\n",
    "if unit == 'in' or unit == '英寸':\n",
    "    print('%.2f英寸 = %.2f厘米' % (value, value * 2.54))\n",
    "elif unit == 'cm' or unit == '厘米':\n",
    "    print('%.2f厘米 = %.2f英寸' % (value, value / 2.54))\n",
    "else:\n",
    "    print('请输入有效的单位')"
   ]
  },
  {
   "cell_type": "markdown",
   "metadata": {},
   "source": [
    "#### 练习2：百分制成绩转换为等级制成绩"
   ]
  },
  {
   "cell_type": "markdown",
   "metadata": {},
   "source": [
    "> 要求：如果成绩在90分以上（含90）输出A；80-90分输出B；70-80分输出C；60-70分输出D；60分以下输出E。"
   ]
  },
  {
   "cell_type": "code",
   "execution_count": null,
   "metadata": {},
   "outputs": [],
   "source": [
    "\"\"\"\n",
    "百分制成绩转换为等级制成绩\n",
    "\n",
    "Version: 0.1\n",
    "Author: 张潇潇\n",
    "\"\"\"\n",
    "\n",
    "score = float(input('请输入成绩：'))\n",
    "if score >= 90:\n",
    "    grade = 'A'\n",
    "elif score >= 80:\n",
    "    grade = 'B'\n",
    "elif score >= 70:\n",
    "    grade = 'C'\n",
    "elif score >= 60:\n",
    "    grade = 'D'\n",
    "else:\n",
    "    grade = 'E'\n",
    "print('对应的等级是：', grade)"
   ]
  },
  {
   "cell_type": "markdown",
   "metadata": {},
   "source": [
    "#### 练习3：输入三条边长，如果能构成三角形就计算周长和面积。"
   ]
  },
  {
   "cell_type": "code",
   "execution_count": 1,
   "metadata": {},
   "outputs": [
    {
     "name": "stdout",
     "output_type": "stream",
     "text": [
      "a = 12\n",
      "b = 20\n",
      "c = 15\n",
      "周长：47.00\n",
      "面积：2757.68\n"
     ]
    }
   ],
   "source": [
    "\"\"\"\n",
    "判断输入的边长能够构成三角形，如果能则计算出三角形的周长和面积\n",
    "\n",
    "Version: 0.1\n",
    "Author:张潇潇\n",
    "\"\"\"\n",
    "\n",
    "a = float(input('a = '))\n",
    "b = float(input('b = '))\n",
    "c = float(input('c = '))\n",
    "if a + b > c and a + c > b and b + c > a:\n",
    "    print('周长：%.2f' % (a + b + c))\n",
    "    p = (a + b + c) / 2\n",
    "    area = (p * (p - a) * (p - b) * (p - c) ** 0.5)\n",
    "    print('面积：%.2f' % (area))\n",
    "else:\n",
    "    print('不能构成三角形')"
   ]
  },
  {
   "cell_type": "code",
   "execution_count": null,
   "metadata": {},
   "outputs": [],
   "source": []
  }
 ],
 "metadata": {
  "kernelspec": {
   "display_name": "Python 3",
   "language": "python",
   "name": "python3"
  },
  "language_info": {
   "codemirror_mode": {
    "name": "ipython",
    "version": 3
   },
   "file_extension": ".py",
   "mimetype": "text/x-python",
   "name": "python",
   "nbconvert_exporter": "python",
   "pygments_lexer": "ipython3",
   "version": "3.7.1"
  }
 },
 "nbformat": 4,
 "nbformat_minor": 2
}
