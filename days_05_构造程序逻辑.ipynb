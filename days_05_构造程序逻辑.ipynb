{
 "cells": [
  {
   "cell_type": "markdown",
   "metadata": {},
   "source": [
    "### 经典的例子"
   ]
  },
  {
   "cell_type": "markdown",
   "metadata": {},
   "source": [
    "1. 寻找**水仙花数**"
   ]
  },
  {
   "cell_type": "markdown",
   "metadata": {},
   "source": [
    "> 说明：水仙花数也被称为超完全不变数、自恋数、自幂数、阿姆斯特朗数，它是一个3位数，该数字每个位上数字的立方之和正好等于它本身，例如：$1^3 + 5^3 + 3^3 = 153$。"
   ]
  },
  {
   "cell_type": "code",
   "execution_count": 1,
   "metadata": {},
   "outputs": [
    {
     "name": "stdout",
     "output_type": "stream",
     "text": [
      "153\n",
      "370\n",
      "371\n",
      "407\n"
     ]
    }
   ],
   "source": [
    "\"\"\"\n",
    "找出所有水仙花数\n",
    "\n",
    "Verson: 0.1\n",
    "Author: 张潇潇\n",
    "\"\"\"\n",
    "\n",
    "for num in range(100, 1000):\n",
    "    low = num % 10\n",
    "    mid = num // 10 % 10\n",
    "    high = num // 100\n",
    "    if num == low ** 3 + mid ** 3 + high ** 3:\n",
    "        print(num)"
   ]
  },
  {
   "cell_type": "markdown",
   "metadata": {},
   "source": [
    "将一个正整数反转"
   ]
  },
  {
   "cell_type": "code",
   "execution_count": 2,
   "metadata": {},
   "outputs": [
    {
     "name": "stdout",
     "output_type": "stream",
     "text": [
      "num = 112233\n",
      "332211\n"
     ]
    }
   ],
   "source": [
    "\"\"\"\n",
    "正整数的反转\n",
    "\n",
    "Version: 0.1\n",
    "Author: 张潇潇\n",
    "\"\"\"\n",
    "\n",
    "num = int(input('num = '))\n",
    "reserved_num = 0\n",
    "while num > 0:\n",
    "    reserved_num = reserved_num * 10 + num % 10\n",
    "    num //= 10\n",
    "print(reserved_num)"
   ]
  },
  {
   "cell_type": "markdown",
   "metadata": {},
   "source": [
    "2. **百钱白鸡**问题。"
   ]
  },
  {
   "cell_type": "markdown",
   "metadata": {},
   "source": [
    " > **说明**：公鸡5元一只，母鸡3元一只，小鸡1元三只，用100块钱买一百只鸡，问公鸡、母鸡、小鸡各有多少只？"
   ]
  },
  {
   "cell_type": "code",
   "execution_count": 3,
   "metadata": {},
   "outputs": [
    {
     "name": "stdout",
     "output_type": "stream",
     "text": [
      "公鸡：0只，母鸡：25只，小鸡：75只\n",
      "公鸡：4只，母鸡：18只，小鸡：78只\n",
      "公鸡：8只，母鸡：11只，小鸡：81只\n",
      "公鸡：12只，母鸡：4只，小鸡：84只\n"
     ]
    }
   ],
   "source": [
    "\"\"\"\n",
    "《百钱白鸡》问题\n",
    "\n",
    "Version: 0.1\n",
    "Author: 张潇潇\n",
    "\"\"\"\n",
    "for x in range(0, 20):\n",
    "    for y in range(0, 33):\n",
    "        z = 100 - x - y\n",
    "        if x * 5 + 3 * y + z / 3 == 100:\n",
    "            print('公鸡：%d只，母鸡：%d只，小鸡：%d只' % (x, y, z))\n"
   ]
  },
  {
   "cell_type": "markdown",
   "metadata": {},
   "source": [
    "3. CRAPS赌博游戏"
   ]
  },
  {
   "cell_type": "markdown",
   "metadata": {},
   "source": [
    "> **说明**：CRAPS规则：玩家第一次摇骰子如果摇出了7点或11点，玩家胜；玩家第一次如果摇出2点、3点或12点，庄家胜；其他点数玩家继续摇骰子，如果玩家摇出了7点，庄家胜；如果玩家摇出了第一次摇的点数，玩家胜；其他点数，玩家继续要骰子，直到分出胜负。"
   ]
  },
  {
   "cell_type": "code",
   "execution_count": 4,
   "metadata": {
    "scrolled": true
   },
   "outputs": [
    {
     "name": "stdout",
     "output_type": "stream",
     "text": [
      "你的总资产为： 1000\n",
      "请下注：1000\n",
      "玩家摇出了6点\n",
      "玩家摇出了6点\n",
      "玩家胜\n",
      "你的总资产为： 2000\n",
      "请下注：2000\n",
      "玩家摇出了5点\n",
      "玩家摇出了11点\n",
      "玩家摇出了9点\n",
      "玩家摇出了7点\n",
      "庄家胜\n",
      "你破产了，游戏结束！\n"
     ]
    }
   ],
   "source": [
    "\"\"\"\n",
    "Craps赌博游戏\n",
    "我们设定玩家开始游戏时有1000元的赌注\n",
    "游戏结束的条件是玩家输光所有的赌注\n",
    "\n",
    "Version: 0.1\n",
    "Author: 张潇潇\n",
    "\"\"\"\n",
    "\n",
    "from random import randint\n",
    "\n",
    "money = 1000\n",
    "while money > 0:\n",
    "    print('你的总资产为：', money)\n",
    "    needs_go_on = False\n",
    "    while True:\n",
    "        debt = int(input('请下注：'))\n",
    "        if 0 < debt <= money:\n",
    "            break\n",
    "    first = randint(1, 6) + randint(1, 6)\n",
    "    print('玩家摇出了%d点' % first)\n",
    "    if first == 7 or first == 11:\n",
    "        print('玩家胜！')\n",
    "        money += debt\n",
    "    elif first == 2 or first == 3 or first == 12:\n",
    "        print('庄家胜！')\n",
    "        money -=debt\n",
    "    else:\n",
    "        needs_go_on = True\n",
    "    while needs_go_on:\n",
    "        needs_go_on = False\n",
    "        current = randint(1, 6) + randint(1, 6)\n",
    "        print('玩家摇出了%d点' % current)\n",
    "        if current == first:\n",
    "            print('玩家胜')\n",
    "            money += debt\n",
    "        elif current == 7:\n",
    "            print('庄家胜')\n",
    "            money -= debt\n",
    "        else:\n",
    "            needs_go_on = True\n",
    "print('你破产了，游戏结束！')            "
   ]
  },
  {
   "cell_type": "markdown",
   "metadata": {},
   "source": [
    "### 练习1：生成裴波那切数列的前20个数。"
   ]
  },
  {
   "cell_type": "markdown",
   "metadata": {},
   "source": [
    "> **说明**：前两个数都是1，从第三个数开始，每个数都是它前面两个数的和。斐波那契数列在现代物理、准晶体结构、化学等领域都有直接的应用。"
   ]
  },
  {
   "cell_type": "code",
   "execution_count": 5,
   "metadata": {},
   "outputs": [
    {
     "name": "stdout",
     "output_type": "stream",
     "text": [
      "1,1,2,3,5,8,13,21,34,55,89,144,233,377,610,987,1597,2584,4181,6765,"
     ]
    }
   ],
   "source": [
    "\"\"\"\n",
    "生成斐波那契数列的前20个数\n",
    "\n",
    "Version: 0.1\n",
    "Author: 张潇潇\n",
    "\"\"\"\n",
    "a = 0\n",
    "b = 1\n",
    "for _ in range(20):\n",
    "    a, b = b, a + b\n",
    "    print(a, end=',')"
   ]
  },
  {
   "cell_type": "markdown",
   "metadata": {},
   "source": [
    "### 练习2：找出10000以内的完美数"
   ]
  },
  {
   "cell_type": "markdown",
   "metadata": {},
   "source": [
    "> **说明**：完美数所有的真因子（即除了自身以外的因子）的和（即因子函数）恰好等于它本身。"
   ]
  },
  {
   "cell_type": "code",
   "execution_count": 6,
   "metadata": {},
   "outputs": [
    {
     "name": "stdout",
     "output_type": "stream",
     "text": [
      "1\n",
      "6\n",
      "28\n",
      "496\n",
      "8128\n"
     ]
    }
   ],
   "source": [
    "\"\"\"\n",
    "找出10000以内的完美数\n",
    "\n",
    "Version: 0.1\n",
    "Author: 张潇潇\n",
    "\"\"\"\n",
    "import math\n",
    "\n",
    "for num in range(1, 10000):\n",
    "    sum = 0\n",
    "    for d in range(1, int(math.sqrt(num)) + 1):\n",
    "        if num % d == 0:\n",
    "            sum += d\n",
    "            if d > 1 and num // d != d:\n",
    "                sum += num // d\n",
    "    if sum == num:\n",
    "        print(num)"
   ]
  },
  {
   "cell_type": "markdown",
   "metadata": {},
   "source": [
    "### 练习3：输出100以内所有的素数。"
   ]
  },
  {
   "cell_type": "markdown",
   "metadata": {},
   "source": [
    "> **说明**：素数指的是只能被1和自身整除的正整数（不包括1）。"
   ]
  },
  {
   "cell_type": "code",
   "execution_count": 8,
   "metadata": {},
   "outputs": [
    {
     "name": "stdout",
     "output_type": "stream",
     "text": [
      "2,3,5,7,11,13,17,19,23,29,31,37,41,43,47,53,59,61,67,71,73,79,83,89,97,"
     ]
    }
   ],
   "source": [
    "\"\"\"\n",
    "输出100以内所有的素数。\n",
    "\n",
    "Version: 0.1\n",
    "Author: 张潇潇\n",
    "\"\"\"\n",
    "# import math\n",
    "\n",
    "for num in range(2, 100):\n",
    "    is_prime = True\n",
    "    for factor in range(2, int(math.sqrt(num)) + 1):\n",
    "        if num % factor == 0:\n",
    "            is_prime = False\n",
    "            break\n",
    "    if is_prime:\n",
    "        print(num, end=',')"
   ]
  },
  {
   "cell_type": "code",
   "execution_count": null,
   "metadata": {},
   "outputs": [],
   "source": []
  }
 ],
 "metadata": {
  "kernelspec": {
   "display_name": "Python 3",
   "language": "python",
   "name": "python3"
  },
  "language_info": {
   "codemirror_mode": {
    "name": "ipython",
    "version": 3
   },
   "file_extension": ".py",
   "mimetype": "text/x-python",
   "name": "python",
   "nbconvert_exporter": "python",
   "pygments_lexer": "ipython3",
   "version": "3.7.1"
  }
 },
 "nbformat": 4,
 "nbformat_minor": 2
}
